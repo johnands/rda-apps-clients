{
 "cells": [
  {
   "cell_type": "markdown",
   "metadata": {},
   "source": [
    "# Request Workflow Example"
   ]
  },
  {
   "cell_type": "markdown",
   "metadata": {},
   "source": [
    "***This is a simple example that demonstrates how you could automate a subset request workflow.***"
   ]
  },
  {
   "cell_type": "code",
   "execution_count": null,
   "metadata": {},
   "outputs": [],
   "source": [
    "import rdams_client as rc\n",
    "import time"
   ]
  },
  {
   "cell_type": "markdown",
   "metadata": {},
   "source": [
    "***Make a function to keep checking if a request is ready.***"
   ]
  },
  {
   "cell_type": "code",
   "execution_count": null,
   "metadata": {},
   "outputs": [],
   "source": [
    "def check_ready(rqst_id, wait_interval=120):\n",
    "    \"\"\"Checks if a request is ready.\"\"\"\n",
    "    for i in range(100): # 100 is arbitrary. This would wait 200 minutes for request to complete\n",
    "        res = rc.get_status(rqst_id)\n",
    "        request_status = res['data']['status']\n",
    "        if request_status == 'Completed':\n",
    "            return True\n",
    "        print(request_status)\n",
    "        print('Not yet available. Waiting ' + str(wait_interval) + ' seconds.' )\n",
    "        time.sleep(wait_interval)\n",
    "    return False"
   ]
  },
  {
   "cell_type": "markdown",
   "metadata": {},
   "source": [
    "***Define a control dict for subsetting.***\n",
    "\n",
    "***In this example, I'll get a CSV file for a particular lat/lon at a single time***"
   ]
  },
  {
   "cell_type": "code",
   "execution_count": null,
   "metadata": {},
   "outputs": [],
   "source": [
    "control = { \n",
    "         'dataset' : 'ds084.1',\n",
    "         'date':'201609200000/to/201609200000',\n",
    "         'datetype':'init',\n",
    "         'param':'V GRD',\n",
    "         'level':'HTGL:100',\n",
    "         'oformat':'csv',\n",
    "         'nlat':-10,\n",
    "         'slat':-10,\n",
    "         'elon':45,\n",
    "         'wlon':45,\n",
    "         'product':'Analysis'\n",
    "         } "
   ]
  },
  {
   "cell_type": "markdown",
   "metadata": {},
   "source": [
    "***Submit a request and check if it went through without an error.***"
   ]
  },
  {
   "cell_type": "code",
   "execution_count": null,
   "metadata": {},
   "outputs": [],
   "source": [
    "response = rc.submit_json(control)\n",
    "assert response['http_response'] == 200\n",
    "rqst_id = response['data']['request_id']\n",
    "\n",
    "print(response)"
   ]
  },
  {
   "cell_type": "markdown",
   "metadata": {},
   "source": [
    "***Checks if a requst is ready. When it is, it will start to download the files.***"
   ]
  },
  {
   "cell_type": "code",
   "execution_count": null,
   "metadata": {},
   "outputs": [],
   "source": [
    "check_ready(rqst_id)\n",
    "rc.download(rqst_id)"
   ]
  },
  {
   "cell_type": "markdown",
   "metadata": {},
   "source": [
    "#### Optionally Purge the request. Purge will occur automatically after 10 days"
   ]
  },
  {
   "cell_type": "code",
   "execution_count": null,
   "metadata": {},
   "outputs": [],
   "source": [
    "# Optionally purge request\n",
    "rc.purge_request(rqst_id)"
   ]
  }
 ],
 "metadata": {
  "kernelspec": {
   "display_name": "Python 3 (ipykernel)",
   "language": "python",
   "name": "python3"
  },
  "language_info": {
   "codemirror_mode": {
    "name": "ipython",
    "version": 3
   },
   "file_extension": ".py",
   "mimetype": "text/x-python",
   "name": "python",
   "nbconvert_exporter": "python",
   "pygments_lexer": "ipython3",
   "version": "3.8.16"
  }
 },
 "nbformat": 4,
 "nbformat_minor": 2
}
